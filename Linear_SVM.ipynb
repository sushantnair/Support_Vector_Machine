{
  "nbformat": 4,
  "nbformat_minor": 0,
  "metadata": {
    "colab": {
      "provenance": [],
      "authorship_tag": "ABX9TyPc1cnLj/b9rhLKMUQ6MWYv",
      "include_colab_link": true
    },
    "kernelspec": {
      "name": "python3",
      "display_name": "Python 3"
    },
    "language_info": {
      "name": "python"
    }
  },
  "cells": [
    {
      "cell_type": "markdown",
      "metadata": {
        "id": "view-in-github",
        "colab_type": "text"
      },
      "source": [
        "<a href=\"https://colab.research.google.com/github/sushantnair/Support_Vector_Machine/blob/main/Linear_SVM.ipynb\" target=\"_parent\"><img src=\"https://colab.research.google.com/assets/colab-badge.svg\" alt=\"Open In Colab\"/></a>"
      ]
    },
    {
      "cell_type": "code",
      "execution_count": 1,
      "metadata": {
        "id": "wskoOKPqDUD2"
      },
      "outputs": [],
      "source": [
        "import numpy as np\n",
        "import pandas as pd\n",
        "import matplotlib.pyplot as plt"
      ]
    },
    {
      "cell_type": "code",
      "source": [
        "from google.colab import drive\n",
        "drive.mount('/content/drive')"
      ],
      "metadata": {
        "colab": {
          "base_uri": "https://localhost:8080/"
        },
        "id": "YkvlowqeThp8",
        "outputId": "f91a08af-0523-4324-e49b-31956a5a4218"
      },
      "execution_count": 2,
      "outputs": [
        {
          "output_type": "stream",
          "name": "stdout",
          "text": [
            "Mounted at /content/drive\n"
          ]
        }
      ]
    },
    {
      "cell_type": "code",
      "source": [
        "data_points = pd.read_csv('/content/drive/MyDrive/Colab Notebooks/Example1_Finding_Hyperplane_Linear_SVM.csv')\n",
        "data_points"
      ],
      "metadata": {
        "colab": {
          "base_uri": "https://localhost:8080/",
          "height": 175
        },
        "id": "4Ey7H_CSpWLB",
        "outputId": "50c80b69-93d1-4ed4-ddae-d7b77287272f"
      },
      "execution_count": 3,
      "outputs": [
        {
          "output_type": "execute_result",
          "data": {
            "text/plain": [
              "  Positive Negative\n",
              "0   (3, 1)   (1, 0)\n",
              "1  (3, -1)   (0, 1)\n",
              "2   (6, 1)  (0, -1)\n",
              "3  (6, -1)  (-1, 0)"
            ],
            "text/html": [
              "\n",
              "  <div id=\"df-66100cae-a107-4320-bdda-ea2443638b74\" class=\"colab-df-container\">\n",
              "    <div>\n",
              "<style scoped>\n",
              "    .dataframe tbody tr th:only-of-type {\n",
              "        vertical-align: middle;\n",
              "    }\n",
              "\n",
              "    .dataframe tbody tr th {\n",
              "        vertical-align: top;\n",
              "    }\n",
              "\n",
              "    .dataframe thead th {\n",
              "        text-align: right;\n",
              "    }\n",
              "</style>\n",
              "<table border=\"1\" class=\"dataframe\">\n",
              "  <thead>\n",
              "    <tr style=\"text-align: right;\">\n",
              "      <th></th>\n",
              "      <th>Positive</th>\n",
              "      <th>Negative</th>\n",
              "    </tr>\n",
              "  </thead>\n",
              "  <tbody>\n",
              "    <tr>\n",
              "      <th>0</th>\n",
              "      <td>(3, 1)</td>\n",
              "      <td>(1, 0)</td>\n",
              "    </tr>\n",
              "    <tr>\n",
              "      <th>1</th>\n",
              "      <td>(3, -1)</td>\n",
              "      <td>(0, 1)</td>\n",
              "    </tr>\n",
              "    <tr>\n",
              "      <th>2</th>\n",
              "      <td>(6, 1)</td>\n",
              "      <td>(0, -1)</td>\n",
              "    </tr>\n",
              "    <tr>\n",
              "      <th>3</th>\n",
              "      <td>(6, -1)</td>\n",
              "      <td>(-1, 0)</td>\n",
              "    </tr>\n",
              "  </tbody>\n",
              "</table>\n",
              "</div>\n",
              "    <div class=\"colab-df-buttons\">\n",
              "\n",
              "  <div class=\"colab-df-container\">\n",
              "    <button class=\"colab-df-convert\" onclick=\"convertToInteractive('df-66100cae-a107-4320-bdda-ea2443638b74')\"\n",
              "            title=\"Convert this dataframe to an interactive table.\"\n",
              "            style=\"display:none;\">\n",
              "\n",
              "  <svg xmlns=\"http://www.w3.org/2000/svg\" height=\"24px\" viewBox=\"0 -960 960 960\">\n",
              "    <path d=\"M120-120v-720h720v720H120Zm60-500h600v-160H180v160Zm220 220h160v-160H400v160Zm0 220h160v-160H400v160ZM180-400h160v-160H180v160Zm440 0h160v-160H620v160ZM180-180h160v-160H180v160Zm440 0h160v-160H620v160Z\"/>\n",
              "  </svg>\n",
              "    </button>\n",
              "\n",
              "  <style>\n",
              "    .colab-df-container {\n",
              "      display:flex;\n",
              "      gap: 12px;\n",
              "    }\n",
              "\n",
              "    .colab-df-convert {\n",
              "      background-color: #E8F0FE;\n",
              "      border: none;\n",
              "      border-radius: 50%;\n",
              "      cursor: pointer;\n",
              "      display: none;\n",
              "      fill: #1967D2;\n",
              "      height: 32px;\n",
              "      padding: 0 0 0 0;\n",
              "      width: 32px;\n",
              "    }\n",
              "\n",
              "    .colab-df-convert:hover {\n",
              "      background-color: #E2EBFA;\n",
              "      box-shadow: 0px 1px 2px rgba(60, 64, 67, 0.3), 0px 1px 3px 1px rgba(60, 64, 67, 0.15);\n",
              "      fill: #174EA6;\n",
              "    }\n",
              "\n",
              "    .colab-df-buttons div {\n",
              "      margin-bottom: 4px;\n",
              "    }\n",
              "\n",
              "    [theme=dark] .colab-df-convert {\n",
              "      background-color: #3B4455;\n",
              "      fill: #D2E3FC;\n",
              "    }\n",
              "\n",
              "    [theme=dark] .colab-df-convert:hover {\n",
              "      background-color: #434B5C;\n",
              "      box-shadow: 0px 1px 3px 1px rgba(0, 0, 0, 0.15);\n",
              "      filter: drop-shadow(0px 1px 2px rgba(0, 0, 0, 0.3));\n",
              "      fill: #FFFFFF;\n",
              "    }\n",
              "  </style>\n",
              "\n",
              "    <script>\n",
              "      const buttonEl =\n",
              "        document.querySelector('#df-66100cae-a107-4320-bdda-ea2443638b74 button.colab-df-convert');\n",
              "      buttonEl.style.display =\n",
              "        google.colab.kernel.accessAllowed ? 'block' : 'none';\n",
              "\n",
              "      async function convertToInteractive(key) {\n",
              "        const element = document.querySelector('#df-66100cae-a107-4320-bdda-ea2443638b74');\n",
              "        const dataTable =\n",
              "          await google.colab.kernel.invokeFunction('convertToInteractive',\n",
              "                                                    [key], {});\n",
              "        if (!dataTable) return;\n",
              "\n",
              "        const docLinkHtml = 'Like what you see? Visit the ' +\n",
              "          '<a target=\"_blank\" href=https://colab.research.google.com/notebooks/data_table.ipynb>data table notebook</a>'\n",
              "          + ' to learn more about interactive tables.';\n",
              "        element.innerHTML = '';\n",
              "        dataTable['output_type'] = 'display_data';\n",
              "        await google.colab.output.renderOutput(dataTable, element);\n",
              "        const docLink = document.createElement('div');\n",
              "        docLink.innerHTML = docLinkHtml;\n",
              "        element.appendChild(docLink);\n",
              "      }\n",
              "    </script>\n",
              "  </div>\n",
              "\n",
              "\n",
              "<div id=\"df-e5f84af3-b2f0-446a-b985-86f33d59f6b9\">\n",
              "  <button class=\"colab-df-quickchart\" onclick=\"quickchart('df-e5f84af3-b2f0-446a-b985-86f33d59f6b9')\"\n",
              "            title=\"Suggest charts\"\n",
              "            style=\"display:none;\">\n",
              "\n",
              "<svg xmlns=\"http://www.w3.org/2000/svg\" height=\"24px\"viewBox=\"0 0 24 24\"\n",
              "     width=\"24px\">\n",
              "    <g>\n",
              "        <path d=\"M19 3H5c-1.1 0-2 .9-2 2v14c0 1.1.9 2 2 2h14c1.1 0 2-.9 2-2V5c0-1.1-.9-2-2-2zM9 17H7v-7h2v7zm4 0h-2V7h2v10zm4 0h-2v-4h2v4z\"/>\n",
              "    </g>\n",
              "</svg>\n",
              "  </button>\n",
              "\n",
              "<style>\n",
              "  .colab-df-quickchart {\n",
              "      --bg-color: #E8F0FE;\n",
              "      --fill-color: #1967D2;\n",
              "      --hover-bg-color: #E2EBFA;\n",
              "      --hover-fill-color: #174EA6;\n",
              "      --disabled-fill-color: #AAA;\n",
              "      --disabled-bg-color: #DDD;\n",
              "  }\n",
              "\n",
              "  [theme=dark] .colab-df-quickchart {\n",
              "      --bg-color: #3B4455;\n",
              "      --fill-color: #D2E3FC;\n",
              "      --hover-bg-color: #434B5C;\n",
              "      --hover-fill-color: #FFFFFF;\n",
              "      --disabled-bg-color: #3B4455;\n",
              "      --disabled-fill-color: #666;\n",
              "  }\n",
              "\n",
              "  .colab-df-quickchart {\n",
              "    background-color: var(--bg-color);\n",
              "    border: none;\n",
              "    border-radius: 50%;\n",
              "    cursor: pointer;\n",
              "    display: none;\n",
              "    fill: var(--fill-color);\n",
              "    height: 32px;\n",
              "    padding: 0;\n",
              "    width: 32px;\n",
              "  }\n",
              "\n",
              "  .colab-df-quickchart:hover {\n",
              "    background-color: var(--hover-bg-color);\n",
              "    box-shadow: 0 1px 2px rgba(60, 64, 67, 0.3), 0 1px 3px 1px rgba(60, 64, 67, 0.15);\n",
              "    fill: var(--button-hover-fill-color);\n",
              "  }\n",
              "\n",
              "  .colab-df-quickchart-complete:disabled,\n",
              "  .colab-df-quickchart-complete:disabled:hover {\n",
              "    background-color: var(--disabled-bg-color);\n",
              "    fill: var(--disabled-fill-color);\n",
              "    box-shadow: none;\n",
              "  }\n",
              "\n",
              "  .colab-df-spinner {\n",
              "    border: 2px solid var(--fill-color);\n",
              "    border-color: transparent;\n",
              "    border-bottom-color: var(--fill-color);\n",
              "    animation:\n",
              "      spin 1s steps(1) infinite;\n",
              "  }\n",
              "\n",
              "  @keyframes spin {\n",
              "    0% {\n",
              "      border-color: transparent;\n",
              "      border-bottom-color: var(--fill-color);\n",
              "      border-left-color: var(--fill-color);\n",
              "    }\n",
              "    20% {\n",
              "      border-color: transparent;\n",
              "      border-left-color: var(--fill-color);\n",
              "      border-top-color: var(--fill-color);\n",
              "    }\n",
              "    30% {\n",
              "      border-color: transparent;\n",
              "      border-left-color: var(--fill-color);\n",
              "      border-top-color: var(--fill-color);\n",
              "      border-right-color: var(--fill-color);\n",
              "    }\n",
              "    40% {\n",
              "      border-color: transparent;\n",
              "      border-right-color: var(--fill-color);\n",
              "      border-top-color: var(--fill-color);\n",
              "    }\n",
              "    60% {\n",
              "      border-color: transparent;\n",
              "      border-right-color: var(--fill-color);\n",
              "    }\n",
              "    80% {\n",
              "      border-color: transparent;\n",
              "      border-right-color: var(--fill-color);\n",
              "      border-bottom-color: var(--fill-color);\n",
              "    }\n",
              "    90% {\n",
              "      border-color: transparent;\n",
              "      border-bottom-color: var(--fill-color);\n",
              "    }\n",
              "  }\n",
              "</style>\n",
              "\n",
              "  <script>\n",
              "    async function quickchart(key) {\n",
              "      const quickchartButtonEl =\n",
              "        document.querySelector('#' + key + ' button');\n",
              "      quickchartButtonEl.disabled = true;  // To prevent multiple clicks.\n",
              "      quickchartButtonEl.classList.add('colab-df-spinner');\n",
              "      try {\n",
              "        const charts = await google.colab.kernel.invokeFunction(\n",
              "            'suggestCharts', [key], {});\n",
              "      } catch (error) {\n",
              "        console.error('Error during call to suggestCharts:', error);\n",
              "      }\n",
              "      quickchartButtonEl.classList.remove('colab-df-spinner');\n",
              "      quickchartButtonEl.classList.add('colab-df-quickchart-complete');\n",
              "    }\n",
              "    (() => {\n",
              "      let quickchartButtonEl =\n",
              "        document.querySelector('#df-e5f84af3-b2f0-446a-b985-86f33d59f6b9 button');\n",
              "      quickchartButtonEl.style.display =\n",
              "        google.colab.kernel.accessAllowed ? 'block' : 'none';\n",
              "    })();\n",
              "  </script>\n",
              "</div>\n",
              "    </div>\n",
              "  </div>\n"
            ],
            "application/vnd.google.colaboratory.intrinsic+json": {
              "type": "dataframe",
              "variable_name": "data_points",
              "summary": "{\n  \"name\": \"data_points\",\n  \"rows\": 4,\n  \"fields\": [\n    {\n      \"column\": \"Positive\",\n      \"properties\": {\n        \"dtype\": \"string\",\n        \"num_unique_values\": 4,\n        \"samples\": [\n          \"(3, -1)\",\n          \"(6, -1)\",\n          \"(3, 1)\"\n        ],\n        \"semantic_type\": \"\",\n        \"description\": \"\"\n      }\n    },\n    {\n      \"column\": \"Negative\",\n      \"properties\": {\n        \"dtype\": \"string\",\n        \"num_unique_values\": 4,\n        \"samples\": [\n          \"(0, 1)\",\n          \"(-1, 0)\",\n          \"(1, 0)\"\n        ],\n        \"semantic_type\": \"\",\n        \"description\": \"\"\n      }\n    }\n  ]\n}"
            }
          },
          "metadata": {},
          "execution_count": 3
        }
      ]
    },
    {
      "cell_type": "code",
      "source": [
        "data_class_values_dict = dict()\n",
        "\n",
        "data_classes = data_points.columns.tolist()\n",
        "data_classes"
      ],
      "metadata": {
        "colab": {
          "base_uri": "https://localhost:8080/"
        },
        "id": "julRseIAqFqa",
        "outputId": "58bd2562-e425-4cab-a479-dd7fcabc5c04"
      },
      "execution_count": 4,
      "outputs": [
        {
          "output_type": "execute_result",
          "data": {
            "text/plain": [
              "['Positive', 'Negative']"
            ]
          },
          "metadata": {},
          "execution_count": 4
        }
      ]
    },
    {
      "cell_type": "code",
      "source": [
        "for data_class in data_classes:\n",
        "    print(data_points[f'{data_class}'])\n",
        "    for data_point in data_points[f'{data_class}']:\n",
        "        print(f'Original Datapoint: {data_point}')\n",
        "        horz = np.array([float(x) for x in data_point.strip('()').split(',')])\n",
        "        print(f'Horizontal NumPy Array:\\n{horz}')\n",
        "        # vert = horz.reshape(-1,1)\n",
        "        # print(f'Vertical NumPy Array:\\n{vert}')\n",
        "        if data_class not in data_class_values_dict:\n",
        "            data_class_values_dict[f'{data_class}'] = [horz]\n",
        "        else:\n",
        "            data_class_values_dict[f'{data_class}'].append(horz)\n",
        "\n",
        "print(f'{data_class_values_dict}')"
      ],
      "metadata": {
        "colab": {
          "base_uri": "https://localhost:8080/"
        },
        "id": "0FU1v-0_quEh",
        "outputId": "a62284bd-3f3f-47c4-80d2-1d47cb01fb4e"
      },
      "execution_count": 5,
      "outputs": [
        {
          "output_type": "stream",
          "name": "stdout",
          "text": [
            "0     (3, 1)\n",
            "1    (3, -1)\n",
            "2     (6, 1)\n",
            "3    (6, -1)\n",
            "Name: Positive, dtype: object\n",
            "Original Datapoint: (3, 1)\n",
            "Horizontal NumPy Array:\n",
            "[3. 1.]\n",
            "Original Datapoint: (3, -1)\n",
            "Horizontal NumPy Array:\n",
            "[ 3. -1.]\n",
            "Original Datapoint: (6, 1)\n",
            "Horizontal NumPy Array:\n",
            "[6. 1.]\n",
            "Original Datapoint: (6, -1)\n",
            "Horizontal NumPy Array:\n",
            "[ 6. -1.]\n",
            "0     (1, 0)\n",
            "1     (0, 1)\n",
            "2    (0, -1)\n",
            "3    (-1, 0)\n",
            "Name: Negative, dtype: object\n",
            "Original Datapoint: (1, 0)\n",
            "Horizontal NumPy Array:\n",
            "[1. 0.]\n",
            "Original Datapoint: (0, 1)\n",
            "Horizontal NumPy Array:\n",
            "[0. 1.]\n",
            "Original Datapoint: (0, -1)\n",
            "Horizontal NumPy Array:\n",
            "[ 0. -1.]\n",
            "Original Datapoint: (-1, 0)\n",
            "Horizontal NumPy Array:\n",
            "[-1.  0.]\n",
            "{'Positive': [array([3., 1.]), array([ 3., -1.]), array([6., 1.]), array([ 6., -1.])], 'Negative': [array([1., 0.]), array([0., 1.]), array([ 0., -1.]), array([-1.,  0.])]}\n"
          ]
        }
      ]
    },
    {
      "cell_type": "code",
      "source": [
        "# Plot the data points\n",
        "for data_class, data_points in data_class_values_dict.items():\n",
        "    for data_point in data_points:\n",
        "        plt.plot(data_point[0], data_point[1], 'o', label=data_class)"
      ],
      "metadata": {
        "colab": {
          "base_uri": "https://localhost:8080/",
          "height": 430
        },
        "id": "KudxCvCm8362",
        "outputId": "e1315840-3a39-4c4a-8ffb-ec7468bffff1"
      },
      "execution_count": 6,
      "outputs": [
        {
          "output_type": "display_data",
          "data": {
            "text/plain": [
              "<Figure size 640x480 with 1 Axes>"
            ],
            "image/png": "[encoded data removed]"
          },
          "metadata": {}
        }
      ]
    },
    {
      "cell_type": "code",
      "source": [
        "# Find the Euclidean Distance between two points\n",
        "def euclidean(point1, point2):\n",
        "    return(np.sqrt(np.sum((point1 - point2)**2)))"
      ],
      "metadata": {
        "id": "-7bVavfXGi9h"
      },
      "execution_count": 7,
      "outputs": []
    },
    {
      "cell_type": "code",
      "source": [
        "# frontier_points: A dictionary exactly of the same structure as data_class_values_dict, except that the values for each class include\n",
        "#                  only the frontier points\n",
        "# min_distances  : A list which stores the minimum distance between a given point and all other points for all points.\n",
        "\n",
        "def find_frontier_points(data_class_values_dict):\n",
        "    frontier_points = dict()\n",
        "    for data_class in data_class_values_dict:\n",
        "        min_distances = list()\n",
        "        for data_point in data_class_values_dict[data_class]:\n",
        "            # Calculate distance between current point and all points of other class(es)\n",
        "            distances = [euclidean(data_point, other_data_point) for other_data_class in data_class_values_dict if other_data_class != data_class for other_data_point in data_class_values_dict[other_data_class]]\n",
        "            # Get minimum distance between current point and all points of other class(es)\n",
        "            min_dist = min(distances)\n",
        "            min_distances.append(min_dist)\n",
        "        # Find the indices of the leading points from the data_class_values_dict dictionary with minimum distance\n",
        "        leading_points_indices = [i for i, dist in enumerate(min_distances) if dist == min(min_distances)]\n",
        "        # Extract the leading points based on their indices\n",
        "        leading_points = [data_class_values_dict[data_class][i] for i in leading_points_indices]\n",
        "        frontier_points[data_class] = leading_points\n",
        "    return frontier_points\n"
      ],
      "metadata": {
        "id": "2cDd7qJFApip"
      },
      "execution_count": 8,
      "outputs": []
    },
    {
      "cell_type": "code",
      "source": [
        "frontier_points = find_frontier_points(data_class_values_dict)\n",
        "print(frontier_points)"
      ],
      "metadata": {
        "colab": {
          "base_uri": "https://localhost:8080/"
        },
        "id": "o9R7_H2RN9MJ",
        "outputId": "5752c6ff-cfec-4e65-910b-42424aca03b3"
      },
      "execution_count": 15,
      "outputs": [
        {
          "output_type": "stream",
          "name": "stdout",
          "text": [
            "{'Positive': [array([3., 1.]), array([ 3., -1.])], 'Negative': [array([1., 0.])]}\n"
          ]
        }
      ]
    },
    {
      "cell_type": "code",
      "source": [
        "for data_class, points in data_class_values_dict.items():\n",
        "    for point in points:\n",
        "        plt.plot(point[0], point[1], 'o', label=data_class)\n",
        "    for point in frontier_points[data_class]:\n",
        "        plt.plot(point[0], point[1], '+', label=f'{data_class} Frontier', markersize=20)\n",
        "    plt.title('Frontier Points are marked with \\'+\\' symbol.')"
      ],
      "metadata": {
        "colab": {
          "base_uri": "https://localhost:8080/",
          "height": 452
        },
        "id": "HQaHgTjHOoBr",
        "outputId": "69c6c017-a829-4a4d-d7d5-74fa451a520c"
      },
      "execution_count": 16,
      "outputs": [
        {
          "output_type": "display_data",
          "data": {
            "text/plain": [
              "<Figure size 640x480 with 1 Axes>"
            ],
            "image/png": "[encoded data removed]"
          },
          "metadata": {}
        }
      ]
    },
    {
      "cell_type": "code",
      "source": [
        "class_number_dict = dict()\n",
        "choice = input('Do you want default values for example or automatic values? Press Y else N: ')\n",
        "if choice == 'Y':\n",
        "    class_number_dict = {'Positive': 1, 'Negative': -1}\n",
        "else:\n",
        "    for i, data_class in enumerate(data_classes):\n",
        "        class_number_dict[data_class] = i+1\n",
        "\n",
        "print(class_number_dict)"
      ],
      "metadata": {
        "colab": {
          "base_uri": "https://localhost:8080/"
        },
        "id": "ABwQev4LQxoD",
        "outputId": "a524a130-4608-4efb-f2bc-6d2482561134"
      },
      "execution_count": 27,
      "outputs": [
        {
          "output_type": "stream",
          "name": "stdout",
          "text": [
            "Do you want default values for example or automatic values? Press Y else N: Y\n",
            "{'Positive': 1, 'Negative': -1}\n"
          ]
        }
      ]
    },
    {
      "cell_type": "code",
      "source": [
        "# Convert Horizontal NumPy to Vertical NumPy\n",
        "# Next, augment each vector with 1 as bias input\n",
        "# temp_frontier_points = dict()\n",
        "temp_frontier_points = list()\n",
        "for data_class, frontier_points in frontier_points.items():\n",
        "    print(data_class, frontier_points)\n",
        "    for frontier_point in frontier_points:\n",
        "        horz_frontier_point = frontier_point\n",
        "        print(f'Horizontal Frontier Point:\\n{horz_frontier_point}')\n",
        "        vert_frontier_point = horz_frontier_point.reshape(-1,1)\n",
        "        print(f'Vertical Frontier Point:\\n{vert_frontier_point}')\n",
        "        augm_frontier_point = np.vstack((vert_frontier_point, [[1.]]))\n",
        "        print(f'Augmented Frontier Point:\\n{augm_frontier_point}')\n",
        "        '''\n",
        "        if data_class not in temp_frontier_points:\n",
        "            temp_frontier_points[data_class] = [augm_frontier_point]\n",
        "        else:\n",
        "            temp_frontier_points[data_class].append(augm_frontier_point)\n",
        "        '''\n",
        "        # A shift in approach: instad of frontier_points = {'Positive': [array([3., 1., 1.]), array([3., -1., 1.])], 'Negative': [array([1., 0., 1.])]}\n",
        "        # we have frontier_points = {'array([3., 1., 1.])': 'Positive', 'array([3., -1., 1.])': 'Positive', 'array([1., 0., 1.])' = 'Negative'}\n",
        "        # so that we get the form of s1_bar, s2_bar, s3_bar for convenience in future operations\n",
        "        '''\n",
        "        temp_frontier_points[augm_frontier_point] = data_class\n",
        "        '''\n",
        "        # Unfortunately, NumPy arrays cannot become key of a dictionary, unless it is converted to bit notation.\n",
        "        # Why not try list of tuples? frontier_points = [(array([3., 1., 1.]), 'Positive'), (array([3., -1., 1.]), 'Positive'), (array([1., 0., 1.]), 'Negative')]\n",
        "        temp_frontier_points.append((augm_frontier_point, data_class))\n",
        "\n",
        "frontier_points = temp_frontier_points\n",
        "print(frontier_points)"
      ],
      "metadata": {
        "colab": {
          "base_uri": "https://localhost:8080/"
        },
        "id": "Lys0GtlOPtQb",
        "outputId": "f168c756-ff2d-4133-d48c-bf7e2db09957"
      },
      "execution_count": 17,
      "outputs": [
        {
          "output_type": "stream",
          "name": "stdout",
          "text": [
            "Positive [array([3., 1.]), array([ 3., -1.])]\n",
            "Horizontal Frontier Point:\n",
            "[3. 1.]\n",
            "Vertical Frontier Point:\n",
            "[[3.]\n",
            " [1.]]\n",
            "Augmented Frontier Point:\n",
            "[[3.]\n",
            " [1.]\n",
            " [1.]]\n",
            "Horizontal Frontier Point:\n",
            "[ 3. -1.]\n",
            "Vertical Frontier Point:\n",
            "[[ 3.]\n",
            " [-1.]]\n",
            "Augmented Frontier Point:\n",
            "[[ 3.]\n",
            " [-1.]\n",
            " [ 1.]]\n",
            "Negative [array([1., 0.])]\n",
            "Horizontal Frontier Point:\n",
            "[1. 0.]\n",
            "Vertical Frontier Point:\n",
            "[[1.]\n",
            " [0.]]\n",
            "Augmented Frontier Point:\n",
            "[[1.]\n",
            " [0.]\n",
            " [1.]]\n",
            "[(array([[3.],\n",
            "       [1.],\n",
            "       [1.]]), 'Positive'), (array([[ 3.],\n",
            "       [-1.],\n",
            "       [ 1.]]), 'Positive'), (array([[1.],\n",
            "       [0.],\n",
            "       [1.]]), 'Negative')]\n"
          ]
        }
      ]
    },
    {
      "cell_type": "code",
      "source": [
        "equation_coefficients = list()\n",
        "rhs_coefficients = list()\n",
        "# Refer to Reference 1 in References Section for explanation\n",
        "\n",
        "for i, frontier_point_tuple_i in enumerate(frontier_points):\n",
        "    print(f's{i+1}_bar:\\n{frontier_point_tuple_i[0]}\\n{frontier_point_tuple_i[1]}\\n{class_number_dict[frontier_point_tuple_i[1]]}\\n\\n')\n",
        "    sub_equation_coefficients = list()\n",
        "    for j, frontier_point_tuple_j in enumerate(frontier_points):\n",
        "        print(f's{j+1}_bar . s{i+1}_bar:\\n{frontier_point_tuple_j[0]} . {frontier_point_tuple_i[0]}')\n",
        "        equation_coefficient = np.dot(frontier_point_tuple_j[0].T, frontier_point_tuple_i[0])\n",
        "        print(equation_coefficient[0][0])\n",
        "        sub_equation_coefficients.append(equation_coefficient[0][0])\n",
        "    print(sub_equation_coefficients)\n",
        "    rhs_coefficients.append(class_number_dict[frontier_point_tuple_i[1]])\n",
        "    equation_coefficients.append(sub_equation_coefficients)\n",
        "print(f'Equation Coefficients: {equation_coefficients}')\n",
        "print(f'RHS Coefficients: {rhs_coefficients}')"
      ],
      "metadata": {
        "colab": {
          "base_uri": "https://localhost:8080/"
        },
        "id": "TNroSrgkRtK_",
        "outputId": "20f75c01-2415-41b9-f037-888ac61e00f4"
      },
      "execution_count": 39,
      "outputs": [
        {
          "output_type": "stream",
          "name": "stdout",
          "text": [
            "s1_bar:\n",
            "[[3.]\n",
            " [1.]\n",
            " [1.]]\n",
            "Positive\n",
            "1\n",
            "\n",
            "\n",
            "s1_bar . s1_bar:\n",
            "[[3.]\n",
            " [1.]\n",
            " [1.]] . [[3.]\n",
            " [1.]\n",
            " [1.]]\n",
            "11.0\n",
            "s2_bar . s1_bar:\n",
            "[[ 3.]\n",
            " [-1.]\n",
            " [ 1.]] . [[3.]\n",
            " [1.]\n",
            " [1.]]\n",
            "9.0\n",
            "s3_bar . s1_bar:\n",
            "[[1.]\n",
            " [0.]\n",
            " [1.]] . [[3.]\n",
            " [1.]\n",
            " [1.]]\n",
            "4.0\n",
            "[11.0, 9.0, 4.0]\n",
            "s2_bar:\n",
            "[[ 3.]\n",
            " [-1.]\n",
            " [ 1.]]\n",
            "Positive\n",
            "1\n",
            "\n",
            "\n",
            "s1_bar . s2_bar:\n",
            "[[3.]\n",
            " [1.]\n",
            " [1.]] . [[ 3.]\n",
            " [-1.]\n",
            " [ 1.]]\n",
            "9.0\n",
            "s2_bar . s2_bar:\n",
            "[[ 3.]\n",
            " [-1.]\n",
            " [ 1.]] . [[ 3.]\n",
            " [-1.]\n",
            " [ 1.]]\n",
            "11.0\n",
            "s3_bar . s2_bar:\n",
            "[[1.]\n",
            " [0.]\n",
            " [1.]] . [[ 3.]\n",
            " [-1.]\n",
            " [ 1.]]\n",
            "4.0\n",
            "[9.0, 11.0, 4.0]\n",
            "s3_bar:\n",
            "[[1.]\n",
            " [0.]\n",
            " [1.]]\n",
            "Negative\n",
            "-1\n",
            "\n",
            "\n",
            "s1_bar . s3_bar:\n",
            "[[3.]\n",
            " [1.]\n",
            " [1.]] . [[1.]\n",
            " [0.]\n",
            " [1.]]\n",
            "4.0\n",
            "s2_bar . s3_bar:\n",
            "[[ 3.]\n",
            " [-1.]\n",
            " [ 1.]] . [[1.]\n",
            " [0.]\n",
            " [1.]]\n",
            "4.0\n",
            "s3_bar . s3_bar:\n",
            "[[1.]\n",
            " [0.]\n",
            " [1.]] . [[1.]\n",
            " [0.]\n",
            " [1.]]\n",
            "2.0\n",
            "[4.0, 4.0, 2.0]\n",
            "Equation Coefficients: [[11.0, 9.0, 4.0], [9.0, 11.0, 4.0], [4.0, 4.0, 2.0]]\n",
            "RHS Coefficients: [1, 1, -1]\n"
          ]
        }
      ]
    },
    {
      "cell_type": "code",
      "source": [
        "# Solve System of Equations to get value of α\n",
        "α = np.linalg.solve(equation_coefficients, rhs_coefficients)\n",
        "print(f'α: {α}')"
      ],
      "metadata": {
        "colab": {
          "base_uri": "https://localhost:8080/"
        },
        "id": "qhlW9tUHXh07",
        "outputId": "9614a84a-e154-4244-e296-b18e78607814"
      },
      "execution_count": 40,
      "outputs": [
        {
          "output_type": "stream",
          "name": "stdout",
          "text": [
            "α: [ 0.75  0.75 -3.5 ]\n"
          ]
        }
      ]
    },
    {
      "cell_type": "code",
      "source": [
        "# Get the value of 'w' and 'b'\n",
        "w = 0\n",
        "for i, frontier_point_tuple in enumerate(frontier_points):\n",
        "    w += α[i] * frontier_point_tuple[0]\n",
        "\n",
        "for i, item in enumerate(w):\n",
        "    # print(round(item[0], 2))\n",
        "    w[i] = round(item[0], 2)\n",
        "\n",
        "b = w[-1].item()\n",
        "print(f'b: {b}')\n",
        "\n",
        "w = w[:-1]\n",
        "print(f'w: {w}')"
      ],
      "metadata": {
        "colab": {
          "base_uri": "https://localhost:8080/"
        },
        "id": "vaKaoLGFYc0q",
        "outputId": "65930e7e-4dfe-47dc-8331-7197dc0c8765"
      },
      "execution_count": 53,
      "outputs": [
        {
          "output_type": "stream",
          "name": "stdout",
          "text": [
            "1.0\n",
            "0.0\n",
            "-2.0\n",
            "b: -2.0\n",
            "w: [[1.]\n",
            " [0.]]\n"
          ]
        }
      ]
    },
    {
      "cell_type": "code",
      "source": [
        "# Time for classification!\n",
        "point = [4, 1]\n",
        "horz_point = np.array(point)\n",
        "vert_point = horz_point.reshape(-1,1)\n",
        "print(vert_point)\n",
        "dot = np.dot(w.T, vert_point)\n",
        "print(dot[0][0])\n",
        "res = dot + b\n",
        "print(res[0][0])\n",
        "if res > 0:\n",
        "    print(f'Positive Class')\n",
        "else:\n",
        "    print(f'Negative Class')"
      ],
      "metadata": {
        "colab": {
          "base_uri": "https://localhost:8080/"
        },
        "id": "_Gj-nKKvaUXQ",
        "outputId": "407a0c40-378c-4909-d49a-3b6d19a82c71"
      },
      "execution_count": 57,
      "outputs": [
        {
          "output_type": "stream",
          "name": "stdout",
          "text": [
            "[[4]\n",
            " [1]]\n",
            "4.0\n",
            "2.0\n",
            "Positive Class\n"
          ]
        }
      ]
    },
    {
      "cell_type": "code",
      "source": [
        "# @title Reference 1: System of Equations in Python\n",
        "# SOURCE: ChatGPT\n",
        "\n",
        "'''\n",
        "a1x + b1y + c1z = d1\n",
        "a2x + b2y + c2z = d2\n",
        "a3x + b3y + c3z = d3\n",
        "'''\n",
        "'''\n",
        "A = np.array([[a1, b1, c1], [a2, b2, c2], [a3, b3, c3]])\n",
        "b = np.array([d1, d2, d3])\n",
        "'''\n",
        "\n",
        "# Coefficients matrix\n",
        "equation_coefficients = [[4, 3, 2], [-2, 2, 3], [3, -5, 2]]\n",
        "A = np.array(equation_coefficients)\n",
        "\n",
        "# Constants vector\n",
        "rhs_coefficients = [25, -10, -4]\n",
        "b = np.array(rhs_coefficients)\n",
        "\n",
        "# Solve the system of equations\n",
        "x = np.linalg.solve(A, b)\n",
        "\n",
        "# Print the solution\n",
        "print(x)"
      ],
      "metadata": {
        "id": "dGssNEBeTt6Y",
        "colab": {
          "base_uri": "https://localhost:8080/"
        },
        "outputId": "a4d217ee-f568-45fc-aa1d-63d3c88f93ea"
      },
      "execution_count": 38,
      "outputs": [
        {
          "output_type": "stream",
          "name": "stdout",
          "text": [
            "[ 5.  3. -2.]\n"
          ]
        }
      ]
    },
    {
      "cell_type": "code",
      "source": [
        "# @title Reference 2: Extract Tuple Datapoint Values of Classes\n",
        "# SOURCE: ChatGPT\n",
        "\n",
        "import pandas as pd\n",
        "import numpy as np\n",
        "\n",
        "# Custom converter function to convert string representation of tuples to NumPy arrays\n",
        "def tuple_converter(string):\n",
        "    # Remove parentheses and split by comma, then convert to float\n",
        "    return np.array([float(x) for x in string.strip('()').split(',')])\n",
        "\n",
        "# Read the CSV file with custom converter\n",
        "df = pd.read_csv('/content/drive/MyDrive/Colab Notebooks/Example1_Finding_Hyperplane_Linear_SVM.csv', converters={'Positive': tuple_converter, 'Negative': tuple_converter})\n",
        "\n",
        "# Access the arrays\n",
        "positive_array = df['Positive'].values\n",
        "negative_array = df['Negative'].values\n",
        "\n",
        "print(\"Positive Array:\", positive_array)\n",
        "print(\"Negative Array:\", negative_array)\n"
      ],
      "metadata": {
        "cellView": "form",
        "id": "xqAAWf8YxH0K"
      },
      "execution_count": null,
      "outputs": []
    },
    {
      "cell_type": "code",
      "source": [
        "# @title Reference 3: Finding Frontier Points\n",
        "# SOURCE: Phind\n",
        "\n",
        "import numpy as np\n",
        "import pandas as pd\n",
        "import matplotlib.pyplot as plt\n",
        "\n",
        "# Assuming data_points and data_class_values_dict are already defined as in your code\n",
        "\n",
        "def calculate_euclidean_distance(point1, point2):\n",
        "    \"\"\"Calculate the Euclidean distance between two points.\"\"\"\n",
        "    return np.sqrt(np.sum((point1 - point2)**2))\n",
        "\n",
        "def find_leading_points(data_class_values_dict):\n",
        "    \"\"\"Find the leading points for each class.\"\"\"\n",
        "    frontier_points = {}\n",
        "    for data_class in data_class_values_dict:\n",
        "        # Initialize a list to store the minimum distances for each point\n",
        "        min_distances = []\n",
        "        for point in data_class_values_dict[data_class]:\n",
        "            # Calculate the distance to all points in the other class\n",
        "            distances = [calculate_euclidean_distance(point, other_point) for other_class in data_class_values_dict if other_class != data_class for other_point in data_class_values_dict[other_class]]\n",
        "            # Find the minimum distance\n",
        "            min_distance = min(distances)\n",
        "            min_distances.append(min_distance)\n",
        "        # Find the indices of the points with the minimum distance\n",
        "        leading_indices = [i for i, dist in enumerate(min_distances) if dist == min(min_distances)]\n",
        "        # Select the leading points\n",
        "        leading_points = [data_class_values_dict[data_class][i] for i in leading_indices]\n",
        "        frontier_points[data_class] = leading_points\n",
        "    return frontier_points\n",
        "\n",
        "# Find the leading points\n",
        "frontier_points = find_leading_points(data_class_values_dict)\n",
        "\n",
        "# Plot the data points and the leading points\n",
        "for data_class, points in data_class_values_dict.items():\n",
        "    for point in points:\n",
        "        plt.plot(point[0], point[1], 'o', label=data_class)\n",
        "    for point in frontier_points[data_class]:\n",
        "        plt.plot(point[0], point[1], 'ro', label=f'{data_class} Frontier')\n",
        "\n",
        "plt.legend()\n",
        "plt.show()\n",
        "\n",
        "# Print the frontier points\n",
        "print(frontier_points)\n",
        "\n"
      ],
      "metadata": {
        "cellView": "form",
        "id": "jsSHNGIcG_gO"
      },
      "execution_count": null,
      "outputs": []
    },
    {
      "cell_type": "code",
      "source": [
        "# @title Reference 4: Concatenate the Bias to the bottom of the Vertical NumPy Array\n",
        "# SOURCE: ChatGPT\n",
        "\n",
        "import numpy as np\n",
        "\n",
        "# Existing vertical NumPy array\n",
        "existing_array = np.array([[3.], [1.]])\n",
        "\n",
        "# Number to add at the bottom\n",
        "number_to_add = 5.0\n",
        "\n",
        "# Concatenate the existing array with the new number\n",
        "existing_array = np.concatenate((existing_array, [[number_to_add]]), axis=0)\n",
        "\n",
        "print(\"Updated array:\")\n",
        "print(existing_array)\n",
        "\n",
        "# OR\n",
        "\n",
        "# Existing vertical NumPy array\n",
        "existing_array = np.array([[3.], [1.]])\n",
        "\n",
        "# Number to add at the bottom\n",
        "number_to_add = 5.0\n",
        "\n",
        "# Stack the existing array with the new number\n",
        "new_array = np.vstack((existing_array, number_to_add))\n",
        "\n",
        "print(\"New array:\")\n",
        "print(new_array)\n",
        "\n"
      ],
      "metadata": {
        "id": "RfVgWw_iy9V-",
        "cellView": "form"
      },
      "execution_count": null,
      "outputs": []
    }
  ]
}